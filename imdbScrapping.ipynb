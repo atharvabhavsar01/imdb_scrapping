{
 "cells": [
  {
   "cell_type": "code",
   "execution_count": 13,
   "metadata": {},
   "outputs": [],
   "source": [
    "#import libraries\n",
    "from urllib.request import urlopen as urlopen\n",
    "from bs4 import BeautifulSoup as soup \n"
   ]
  },
  {
   "cell_type": "code",
   "execution_count": 17,
   "metadata": {},
   "outputs": [],
   "source": [
    "my_url= \"https://www.imdb.com/search/title/?sort=num_votes,desc&start=1&title_type=feature&year=1950,2021\"\n",
    "uClient = urlopen(my_url)\n",
    "page_html= uClient.read()\n",
    "uClient.close()"
   ]
  },
  {
   "cell_type": "code",
   "execution_count": 23,
   "metadata": {},
   "outputs": [],
   "source": [
    "#html parser\n",
    "page_soup = soup(page_html,\"html.parser\")\n"
   ]
  },
  {
   "cell_type": "code",
   "execution_count": 20,
   "metadata": {},
   "outputs": [
    {
     "name": "stdout",
     "output_type": "stream",
     "text": [
      "50\n"
     ]
    }
   ],
   "source": [
    "containers = page_soup.find_all(\"div\", {\"class\":\"lister-item mode-advanced\"})\n",
    "print(len(containers))"
   ]
  },
  {
   "cell_type": "code",
   "execution_count": 22,
   "metadata": {},
   "outputs": [
    {
     "name": "stdout",
     "output_type": "stream",
     "text": [
      "The Shawshank Redemption,(1994),\n",
      "\n",
      "The Dark Knight,(2008),\n",
      "\n",
      "Inception,(2010),\n",
      "\n",
      "Fight Club,(1999),\n",
      "\n",
      "Forrest Gump,(1994),\n",
      "\n",
      "Pulp Fiction,(1994),\n",
      "\n",
      "The Matrix,(1999),\n",
      "\n",
      "The Lord of the Rings: The Fellowship of the Ring,(2001),\n",
      "\n",
      "The Godfather,(1972),\n",
      "\n",
      "The Lord of the Rings: The Return of the King,(2003),\n",
      "\n",
      "Interstellar,(2014),\n",
      "\n",
      "The Dark Knight Rises,(2012),\n",
      "\n",
      "The Lord of the Rings: The Two Towers,(2002),\n",
      "\n",
      "Se7en,(1995),\n",
      "\n",
      "Django Unchained,(2012),\n",
      "\n",
      "Gladiator,(2000),\n",
      "\n",
      "Batman Begins,(2005),\n",
      "\n",
      "Inglourious Basterds,(2009),\n",
      "\n",
      "The Silence of the Lambs,(1991),\n",
      "\n",
      "The Wolf of Wall Street,(2013),\n",
      "\n",
      "Saving Private Ryan,(1998),\n",
      "\n",
      "The Avengers,(2012),\n",
      "\n",
      "Star Wars,(1977),\n",
      "\n",
      "Schindler's List,(1993),\n",
      "\n",
      "The Prestige,(2006),\n",
      "\n",
      "The Departed,(2006),\n",
      "\n",
      "Shutter Island,(2010),\n",
      "\n",
      "Avatar,(2009),\n",
      "\n",
      "The Green Mile,(1999),\n",
      "\n",
      "Joker,(I) (2019),\n",
      "\n",
      "The Empire Strikes Back,(1980),\n",
      "\n",
      "The Godfather Part II,(1974),\n",
      "\n",
      "Memento,(2000),\n",
      "\n",
      "Back to the Future,(1985),\n",
      "\n",
      "Guardians of the Galaxy,(2014),\n",
      "\n",
      "Titanic,(1997),\n",
      "\n",
      "GoodFellas,(1990),\n",
      "\n",
      "Léon,(1994),\n",
      "\n",
      "American Beauty,(1999),\n",
      "\n",
      "Avengers: Endgame,(2019),\n",
      "\n",
      "Pirates of the Caribbean: The Curse of the Black Pearl,(2003),\n",
      "\n",
      "American History X,(1998),\n",
      "\n",
      "V for Vendetta,(2005),\n",
      "\n",
      "WALL·E,(2008),\n",
      "\n",
      "Kill Bill: Vol. 1,(2003),\n",
      "\n",
      "Terminator 2: Judgment Day,(1991),\n",
      "\n",
      "The Truman Show,(1998),\n",
      "\n",
      "Avengers: Infinity War,(2018),\n",
      "\n",
      "The Usual Suspects,(1995),\n",
      "\n",
      "Iron Man,(2008),\n",
      "\n"
     ]
    }
   ],
   "source": [
    "#putting the data in csv\n",
    "\n",
    "filename = \"imdbScrapping.csv\"\n",
    "f = open(filename,\"w\")\n",
    "\n",
    "headers = \"Name, Year, Runtime \\n\"\n",
    "f.write(headers)\n",
    "\n",
    "for container in containers:\n",
    "    name = container.img[\"alt\"]\n",
    "    year_m = container.findAll(\"span\", {\"class\": \"lister-item-year\"})\n",
    "    \n",
    "    year = year_m[0].text\n",
    "    runtime_mov= container.findAll(\"span\", {\"class\": \"runtime\"})\n",
    "    runtime = runtime_mov[0].text\n",
    "    \n",
    "    print(name+\",\"+year+\",\"+\"\\n\")\n",
    "    f.write(name+\",\"+year+\",\"+runtime+\"\\n\")\n",
    "    \n",
    "f.close()"
   ]
  }
 ],
 "metadata": {
  "kernelspec": {
   "display_name": "Python 3",
   "language": "python",
   "name": "python3"
  },
  "language_info": {
   "codemirror_mode": {
    "name": "ipython",
    "version": 3
   },
   "file_extension": ".py",
   "mimetype": "text/x-python",
   "name": "python",
   "nbconvert_exporter": "python",
   "pygments_lexer": "ipython3",
   "version": "3.10.5"
  },
  "orig_nbformat": 4,
  "vscode": {
   "interpreter": {
    "hash": "58837b1b657ea91009af8409fc244ae3b5ccf93ea980d6fb6b80adc5f697f4cc"
   }
  }
 },
 "nbformat": 4,
 "nbformat_minor": 2
}
